{
 "cells": [
  {
   "cell_type": "code",
   "execution_count": null,
   "id": "5e60c566-44cc-43ee-b987-040bc9e3885b",
   "metadata": {},
   "outputs": [],
   "source": [
    "d = {}"
   ]
  },
  {
   "cell_type": "code",
   "execution_count": null,
   "id": "8e4daa29-badb-41bd-9694-4b3d9e6e81f4",
   "metadata": {},
   "outputs": [],
   "source": [
    "type(d)"
   ]
  },
  {
   "cell_type": "code",
   "execution_count": null,
   "id": "c1446ba9-fab2-4d93-98b9-ba4cad111ec5",
   "metadata": {},
   "outputs": [],
   "source": [
    "d1 = {\"key\" : \"Rock\"}"
   ]
  },
  {
   "cell_type": "code",
   "execution_count": null,
   "id": "5f431d1b-8517-452d-acb3-a1abd78493b5",
   "metadata": {},
   "outputs": [],
   "source": [
    "d1"
   ]
  },
  {
   "cell_type": "code",
   "execution_count": null,
   "id": "8c9357a1-d102-4781-8cf7-9c734e350c72",
   "metadata": {},
   "outputs": [],
   "source": [
    "d2 = {'Name' : 'Md Aamir Hussain Khan', 'Email' : 'docers1010@gmail.com', 'Contact no' : '7003262249'}"
   ]
  },
  {
   "cell_type": "code",
   "execution_count": null,
   "id": "d32fe2b8-6387-42e9-9359-0afccc5fa4ec",
   "metadata": {},
   "outputs": [],
   "source": [
    "d2"
   ]
  },
  {
   "cell_type": "code",
   "execution_count": null,
   "id": "336630a1-81ac-4db4-a55b-c118809de35d",
   "metadata": {},
   "outputs": [],
   "source": [
    "d3 = { 234 : 'Aamir'}"
   ]
  },
  {
   "cell_type": "code",
   "execution_count": null,
   "id": "cf7ba2d5-a4a4-4d02-857e-1101ddf4d6a3",
   "metadata": {},
   "outputs": [],
   "source": [
    "d3"
   ]
  },
  {
   "cell_type": "code",
   "execution_count": null,
   "id": "df3a4d67-69be-4996-9ae7-437584161827",
   "metadata": {},
   "outputs": [],
   "source": [
    "d5 = { 'Aamir' : \"Hussain\"}"
   ]
  },
  {
   "cell_type": "code",
   "execution_count": null,
   "id": "ddadf60f-5f4b-4aa7-adfd-d3d6ce73b6d6",
   "metadata": {},
   "outputs": [],
   "source": [
    "d5"
   ]
  },
  {
   "cell_type": "code",
   "execution_count": null,
   "id": "c541c246-3dc8-4eb6-a56e-236bba12c80b",
   "metadata": {},
   "outputs": [],
   "source": [
    "d6 = {\"@%^\" : \"Hello World\"}"
   ]
  },
  {
   "cell_type": "code",
   "execution_count": null,
   "id": "ccba4802-1d17-4898-96c4-a27dfddc05fb",
   "metadata": {},
   "outputs": [],
   "source": [
    "d6"
   ]
  },
  {
   "cell_type": "code",
   "execution_count": null,
   "id": "33de844a-cd1c-4cd2-a4be-f1ea74afa627",
   "metadata": {},
   "outputs": [],
   "source": [
    "d5['Aamir']"
   ]
  },
  {
   "cell_type": "code",
   "execution_count": null,
   "id": "04d0dc8d-d27b-4d0b-bc6f-04c526e21103",
   "metadata": {},
   "outputs": [],
   "source": [
    "d3[234]"
   ]
  },
  {
   "cell_type": "code",
   "execution_count": null,
   "id": "bc2e31c3-6246-411a-ab45-582e573dcd06",
   "metadata": {},
   "outputs": [],
   "source": [
    "d7 = {'name' : 'Aamir' , 'email_id' : 'docers1010@gmail.com' , \"name\" : 'Hussain'}"
   ]
  },
  {
   "cell_type": "code",
   "execution_count": null,
   "id": "f9edc5a5-90f8-4b39-af1c-5ed6c7f58a1f",
   "metadata": {},
   "outputs": [],
   "source": [
    "d7[\"name\"]"
   ]
  },
  {
   "cell_type": "code",
   "execution_count": null,
   "id": "a563b65a-2996-4f4b-89bf-ea7ce03213a6",
   "metadata": {},
   "outputs": [],
   "source": [
    "d8={'Company':'Pwskills','Course':['Web Dev','Data Science','Java with DSA system design']}"
   ]
  },
  {
   "cell_type": "code",
   "execution_count": null,
   "id": "3110da73-b9c9-4831-9683-8dc97324b064",
   "metadata": {},
   "outputs": [],
   "source": [
    "d8['Course']"
   ]
  },
  {
   "cell_type": "code",
   "execution_count": null,
   "id": "f7101f77-3fc2-43ff-89c2-dbd6991b40b1",
   "metadata": {},
   "outputs": [],
   "source": [
    "d8['Course'][2]"
   ]
  },
  {
   "cell_type": "code",
   "execution_count": null,
   "id": "33eefc7a-1eba-4c2d-8445-e98ab52e86fe",
   "metadata": {},
   "outputs": [],
   "source": [
    "d9 = {'number':[2,34,3,34,34], 'assignment':(1,2,3,4,5,6), 'launch_date':{28,12,14}, 'Class_time': {'Web_dev':8,'Data science masters':8,'java with dsa design system':7}}"
   ]
  },
  {
   "cell_type": "code",
   "execution_count": null,
   "id": "efa3a35e-e14f-4675-b110-1c6477a79965",
   "metadata": {},
   "outputs": [],
   "source": [
    "d9"
   ]
  },
  {
   "cell_type": "code",
   "execution_count": null,
   "id": "d0d38a9c-d906-4d2f-801d-0b3172b9edad",
   "metadata": {},
   "outputs": [],
   "source": [
    "d9['Class_time']['java with dsa design system']"
   ]
  },
  {
   "cell_type": "code",
   "execution_count": null,
   "id": "efb785a0-f6e4-43d5-aa8f-527d022d02ad",
   "metadata": {},
   "outputs": [],
   "source": [
    "d9['mentor'] = ['Sudhanshu','Krish','Anurag','Hayder']"
   ]
  },
  {
   "cell_type": "code",
   "execution_count": null,
   "id": "5eaa3b81-d2e9-4031-933c-dc21ef0b224e",
   "metadata": {},
   "outputs": [],
   "source": [
    "d9"
   ]
  },
  {
   "cell_type": "code",
   "execution_count": null,
   "id": "ff3020c0-8d80-4a78-bf81-4dcd164c20c0",
   "metadata": {},
   "outputs": [],
   "source": [
    "d9"
   ]
  },
  {
   "cell_type": "code",
   "execution_count": null,
   "id": "c250fb29-d757-496d-8525-d4458ab0dd1f",
   "metadata": {},
   "outputs": [],
   "source": [
    "del d9['number']"
   ]
  },
  {
   "cell_type": "code",
   "execution_count": null,
   "id": "614494d3-62a5-4086-8933-86aad1242815",
   "metadata": {},
   "outputs": [],
   "source": [
    "d9"
   ]
  },
  {
   "cell_type": "code",
   "execution_count": null,
   "id": "6cdefc0c-fa8f-4979-810a-a913a3462809",
   "metadata": {},
   "outputs": [],
   "source": [
    "d9"
   ]
  },
  {
   "cell_type": "code",
   "execution_count": null,
   "id": "c744f524-6d69-4e00-b8b5-dbde607f7204",
   "metadata": {},
   "outputs": [],
   "source": [
    "d9.keys()"
   ]
  },
  {
   "cell_type": "code",
   "execution_count": null,
   "id": "21dff410-cc1e-44a6-8e57-4a5ce18c9250",
   "metadata": {},
   "outputs": [],
   "source": [
    "list(d9.keys())"
   ]
  },
  {
   "cell_type": "code",
   "execution_count": null,
   "id": "0e88bef0-888e-4e4c-915f-a9dfcebe0049",
   "metadata": {},
   "outputs": [],
   "source": [
    "d9.values()"
   ]
  },
  {
   "cell_type": "code",
   "execution_count": null,
   "id": "d241684f-11f7-45fb-8dcb-e7a2c2061fb4",
   "metadata": {},
   "outputs": [],
   "source": [
    "list(d9.values())"
   ]
  },
  {
   "cell_type": "code",
   "execution_count": null,
   "id": "8e064f47-8444-440c-94de-f437ad4d1fa2",
   "metadata": {},
   "outputs": [],
   "source": [
    "d9"
   ]
  },
  {
   "cell_type": "code",
   "execution_count": null,
   "id": "c7872d33-8d7f-4825-a6d8-d8082b42c2e8",
   "metadata": {},
   "outputs": [],
   "source": [
    "d9.items()"
   ]
  },
  {
   "cell_type": "code",
   "execution_count": null,
   "id": "ae02b152-2c5f-4287-8626-d5dd461322cb",
   "metadata": {},
   "outputs": [],
   "source": [
    "list(d9.items())"
   ]
  },
  {
   "cell_type": "code",
   "execution_count": null,
   "id": "a6667721-654e-4a0b-869a-5d5602b87d7e",
   "metadata": {},
   "outputs": [],
   "source": [
    "d9.pop('assignment')"
   ]
  },
  {
   "cell_type": "code",
   "execution_count": null,
   "id": "1b94adb4-dded-4f9c-8033-ffac6115096d",
   "metadata": {},
   "outputs": [],
   "source": [
    "d9"
   ]
  },
  {
   "cell_type": "code",
   "execution_count": 3,
   "id": "09f05497-e18d-444b-a030-e31e62f4bd1d",
   "metadata": {},
   "outputs": [
    {
     "name": "stdin",
     "output_type": "stream",
     "text": [
      "enter your marks 95\n"
     ]
    },
    {
     "name": "stdout",
     "output_type": "stream",
     "text": [
      "You will be a part of A0 batch\n"
     ]
    }
   ],
   "source": [
    "marks = int( input (\"enter your marks\"))\n",
    "if marks >= 80:\n",
    "    print(\"You will be a part of A0 batch\")\n",
    "elif marks >= 60 and marks < 80:\n",
    "    print(\"You will be a part of A1 batch\")\n",
    "elif marks >= 40 and marks < 60:\n",
    "    print(\"You will be a part of A2 batch\")\n",
    "else:\n",
    "    print(\"You will be a part of A3 batch\")\n",
    "    "
   ]
  },
  {
   "cell_type": "code",
   "execution_count": 9,
   "id": "94b9a62c-39a3-4a06-932b-f7bd875982fd",
   "metadata": {},
   "outputs": [
    {
     "name": "stdin",
     "output_type": "stream",
     "text": [
      "Enter your Budget 256.97\n"
     ]
    },
    {
     "name": "stdout",
     "output_type": "stream",
     "text": [
      "I will purchase\n"
     ]
    }
   ],
   "source": [
    "price = float(input(\"Enter your Budget\"))\n",
    "if price > 1000:\n",
    "    print(\"I will not purchase\")\n",
    "else:\n",
    "    print(\"I will purchase\")\n",
    "    \n"
   ]
  },
  {
   "cell_type": "code",
   "execution_count": 1,
   "id": "93b3e599-85d3-4a5b-93bb-ed8e450e28a3",
   "metadata": {},
   "outputs": [
    {
     "name": "stdin",
     "output_type": "stream",
     "text": [
      "Enter Your Budget 758\n"
     ]
    },
    {
     "name": "stdout",
     "output_type": "stream",
     "text": [
      "will consider this to purchase or not\n",
      " I will definetly gonna buy this\n"
     ]
    }
   ],
   "source": [
    "price = int(input(\"Enter Your Budget\"))\n",
    "if price > 1000:\n",
    "    print(\"I will not purchase\")\n",
    "    if price > 5000:\n",
    "        print(\"This is too much\")\n",
    "    if price > 1500:\n",
    "        print(\"It is okay\")\n",
    "elif price < 1000:\n",
    "    print(\"will consider this to purchase or not\")\n",
    "    if price > 500 and price < 999:\n",
    "        print (\" I will definetly gonna buy this\")\n",
    "    if price > 300 and price < 499:\n",
    "        print(\"Will buy through UPI\")\n",
    "else:\n",
    "    print(\"No issue regarding purchase simple\")"
   ]
  },
  {
   "cell_type": "code",
   "execution_count": 3,
   "id": "72ee26bb-d74e-461d-8418-811f91ac81d7",
   "metadata": {},
   "outputs": [],
   "source": [
    "l = [\"sudh\",\"kumar\",\"pwskills\",\"course\"]"
   ]
  },
  {
   "cell_type": "code",
   "execution_count": 4,
   "id": "2646a82f-09d8-472f-ae9a-3dff46b6bc78",
   "metadata": {},
   "outputs": [
    {
     "name": "stdout",
     "output_type": "stream",
     "text": [
      "sudh\n",
      "kumar\n",
      "pwskills\n",
      "course\n"
     ]
    }
   ],
   "source": [
    "l1 = []\n",
    "for i in l:\n",
    "    print(i)\n",
    "    l1.append(i.upper())"
   ]
  },
  {
   "cell_type": "code",
   "execution_count": 5,
   "id": "f4624b8d-e7d3-4553-b409-0b724f281bdf",
   "metadata": {},
   "outputs": [
    {
     "data": {
      "text/plain": [
       "['SUDH', 'KUMAR', 'PWSKILLS', 'COURSE']"
      ]
     },
     "execution_count": 5,
     "metadata": {},
     "output_type": "execute_result"
    }
   ],
   "source": [
    "l1"
   ]
  },
  {
   "cell_type": "code",
   "execution_count": 6,
   "id": "21407000-dec5-4554-8b05-323e8f85de1d",
   "metadata": {},
   "outputs": [],
   "source": [
    "l = [1,2,3,4,4,\"sudh\",\"kumar\",324,34.456,\"abc\"]"
   ]
  },
  {
   "cell_type": "code",
   "execution_count": 7,
   "id": "746794bc-48cd-4b34-bb02-00ebea58ea09",
   "metadata": {},
   "outputs": [],
   "source": [
    "l1_num = []\n",
    "l2_str = []\n",
    "for i in l :\n",
    "    if type(i) == int or type(i) == float :\n",
    "        l1_num.append(i)\n",
    "    else :\n",
    "        l2_str.append(i)"
   ]
  },
  {
   "cell_type": "code",
   "execution_count": 8,
   "id": "65af339e-40f2-42f9-87fb-4e1591e8bd93",
   "metadata": {},
   "outputs": [
    {
     "data": {
      "text/plain": [
       "[1, 2, 3, 4, 4, 324, 34.456]"
      ]
     },
     "execution_count": 8,
     "metadata": {},
     "output_type": "execute_result"
    }
   ],
   "source": [
    "l1_num"
   ]
  },
  {
   "cell_type": "code",
   "execution_count": 11,
   "id": "8ec248da-9801-4998-a4ed-fa2d11670f44",
   "metadata": {},
   "outputs": [
    {
     "data": {
      "text/plain": [
       "['sudh', 'kumar', 'abc']"
      ]
     },
     "execution_count": 11,
     "metadata": {},
     "output_type": "execute_result"
    }
   ],
   "source": [
    "l2_str"
   ]
  },
  {
   "cell_type": "code",
   "execution_count": null,
   "id": "38c42fd9-94d2-4f51-8fd7-e8d1d30bacb1",
   "metadata": {},
   "outputs": [],
   "source": []
  }
 ],
 "metadata": {
  "kernelspec": {
   "display_name": "Python 3 (ipykernel)",
   "language": "python",
   "name": "python3"
  },
  "language_info": {
   "codemirror_mode": {
    "name": "ipython",
    "version": 3
   },
   "file_extension": ".py",
   "mimetype": "text/x-python",
   "name": "python",
   "nbconvert_exporter": "python",
   "pygments_lexer": "ipython3",
   "version": "3.10.8"
  }
 },
 "nbformat": 4,
 "nbformat_minor": 5
}
